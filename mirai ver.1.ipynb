{
 "cells": [
  {
   "cell_type": "markdown",
   "metadata": {},
   "source": [
    "## Mirai 의 목적\n",
    "- Making automated system which can earn money (size doesn't matter) for me.\n",
    "- keeping track of my progress so that nothing goes away."
   ]
  },
  {
   "cell_type": "markdown",
   "metadata": {},
   "source": [
    "## Mirai 1.0 의 Capacity\n",
    "- [ ] can load cc data automatically\n",
    "- [ v ] can load cc data when asked\n",
    "- [ v ] can process data to build model and predict next data\n",
    "- [ ] can predict _ data with __ accuracy\n",
    "- [ ] can sell\n",
    "- [ ] can buy\n",
    "- [ ] can earn _ in 1 day"
   ]
  },
  {
   "cell_type": "markdown",
   "metadata": {},
   "source": [
    "## Mirai 1.0"
   ]
  },
  {
   "cell_type": "markdown",
   "metadata": {},
   "source": [
    "### 0. Import Libraries"
   ]
  },
  {
   "cell_type": "code",
   "execution_count": 19,
   "metadata": {},
   "outputs": [],
   "source": [
    "import numpy as np\n",
    "import pandas as pd\n",
    "import matplotlib.pyplot as plt\n",
    "\n",
    "import math\n",
    "import requests, json\n",
    "from urllib.parse import quote\n",
    "from numpy import array, argmax, array_equal\n",
    "from random import randint\n",
    "\n",
    "from sklearn.model_selection import train_test_split\n",
    "\n",
    "from keras import backend, optimizers\n",
    "from keras.models import Model, Sequential\n",
    "from keras.layers import Input, LSTM, Dense, Dropout, TimeDistributed, RepeatVector\n",
    "from keras.utils import to_categorical"
   ]
  },
  {
   "cell_type": "code",
   "execution_count": 17,
   "metadata": {},
   "outputs": [],
   "source": [
    "from tqdm import *"
   ]
  },
  {
   "cell_type": "code",
   "execution_count": 7,
   "metadata": {},
   "outputs": [
    {
     "name": "stdout",
     "output_type": "stream",
     "text": [
      "Shape of the Data: (10000, 11)\n"
     ]
    }
   ],
   "source": [
    "dataset = load_data('XRP', 1, 10000)\n",
    "print('Shape of the Data:',dataset.shape)"
   ]
  },
  {
   "cell_type": "code",
   "execution_count": 8,
   "metadata": {},
   "outputs": [
    {
     "data": {
      "text/plain": [
       "[<matplotlib.lines.Line2D at 0x124226208>]"
      ]
     },
     "execution_count": 8,
     "metadata": {},
     "output_type": "execute_result"
    },
    {
     "data": {
      "image/png": "[encoded data removed]",
      "text/plain": [
       "<Figure size 432x288 with 1 Axes>"
      ]
     },
     "metadata": {},
     "output_type": "display_data"
    }
   ],
   "source": [
    "plt.plot(dataset[:,[6]].astype(float))"
   ]
  },
  {
   "cell_type": "markdown",
   "metadata": {},
   "source": [
    "### 2. Set constant values / hyperparameters"
   ]
  },
  {
   "cell_type": "code",
   "execution_count": 12,
   "metadata": {},
   "outputs": [],
   "source": [
    "col=[6] #closing price만 사용\n",
    "input_seq = 5 #5개의 x를 넣으면 \n",
    "output_seq = 1 #1개의 y가 나옴\n",
    "hidden = 100\n",
    "batch_size = 512\n",
    "epoch = 10\n",
    "#features = 1000"
   ]
  },
  {
   "cell_type": "code",
   "execution_count": 21,
   "metadata": {},
   "outputs": [],
   "source": [
    "train, test = train_test_split(dataset, test_size=0.01)"
   ]
  },
  {
   "cell_type": "code",
   "execution_count": 29,
   "metadata": {},
   "outputs": [
    {
     "name": "stderr",
     "output_type": "stream",
     "text": [
      "100%|██████████| 9895/9895 [00:00<00:00, 431572.89it/s]\n"
     ]
    }
   ],
   "source": [
    "meta, x_data, y_data = processor(train, col)"
   ]
  },
  {
   "cell_type": "code",
   "execution_count": null,
   "metadata": {},
   "outputs": [],
   "source": [
    "def define_model():\n",
    "    return model"
   ]
  },
  {
   "cell_type": "markdown",
   "metadata": {},
   "source": [
    "## TODO\n",
    "- processor 에서 data가 한덩어리 아니고 x,y 나눠져서 들어가는 경우에 대한 처리 추가 (현재는 make_sequence가 중복데이터 넣도록 하드코딩)"
   ]
  },
  {
   "cell_type": "code",
   "execution_count": 6,
   "metadata": {},
   "outputs": [],
   "source": [
    "def call_candle(currency, minutes, count, to=''):\n",
    "    max_count = 100\n",
    "\n",
    "    if count > max_count:\n",
    "        iter_range = count // max_count\n",
    "        iter_left = count % max_count\n",
    "        total = []\n",
    "\n",
    "        while iter_range:\n",
    "            to_encoded = quote(to)\n",
    "            URL = 'https://api.upbit.com/v1/candles/minutes/' + str(\n",
    "                minutes) + '?market=KRW-' + currency + '&count=' + str(max_count) + '&to=' + to_encoded\n",
    "            req = requests.get(URL)\n",
    "            res = json.loads(req.text)\n",
    "\n",
    "            iter_range -= 1\n",
    "            to = res[-1]['candle_date_time_kst'] + '+09:00'\n",
    "            total += res\n",
    "\n",
    "        if iter_left > 0:\n",
    "            to_encoded = quote(to)\n",
    "            URL = 'https://api.upbit.com/v1/candles/minutes/' + str(\n",
    "                minutes) + '?market=KRW-' + currency + '&count=' + str(iter_left) + '&to=' + to_encoded\n",
    "            req = requests.get(URL)\n",
    "            res = json.loads(req.text)\n",
    "            total += res\n",
    "\n",
    "        return total\n",
    "    else:\n",
    "        to_encoded = quote(to)\n",
    "        URL = 'https://api.upbit.com/v1/candles/minutes/' + str(\n",
    "            minutes) + '?market=KRW-' + currency + '&count=' + str(count) + '&to=' + to_encoded\n",
    "        req = requests.get(URL)\n",
    "        res = json.loads(req.text)\n",
    "        res.reverse()\n",
    "\n",
    "        return res\n",
    "    \n",
    "def load_data(currencies, mins, counts):\n",
    "    #loading data\n",
    "    data_origin = call_candle(currencies, minutes=mins , count=counts, to='2018-12-10T23:00:00+09:00')\n",
    "    data_array = []\n",
    "    for i in data_origin:\n",
    "        data_array.append(list(i.values()))\n",
    "    data = np.array(data_array)\n",
    "    data = data[data[:,2].argsort()] #sort by time\n",
    "    return data\n",
    "\n",
    "def processor(data, col, scale=False, is_training=True, v=None):\n",
    "    if is_training == True:\n",
    "        v = {}\n",
    "    x = {}\n",
    "    \n",
    "    #Missing Value 핸들링 : 각 값들을 median value로 채움\n",
    "    #Scale = standard scaling을 사용, training의 값만으로 scaling의 기준점을 잡음\n",
    "    if scale == True:\n",
    "        for i in range(len(col)):\n",
    "            if is_training == True:\n",
    "                v[i] = get_metadata(data[:,col][:,i].astype(float))\n",
    "            x[i] = scale_value(data[:,col][:,i].astype(float), v[i], scale_method='standard')\n",
    "    else:\n",
    "        for i in range(len(col)):\n",
    "            x[i] = data[:,col][:,i].astype(float)\n",
    "    \n",
    "    x_val = np.transpose(np.array(list(x.values()))) \n",
    "    #x value를 (samples,1)의 shape로 리턴\n",
    "    #데이터셋 중에 필요한 컬럼만 추출하여 scale 처리하면서 meta를 저장함\n",
    "    \n",
    "    def make_sequence(data_x, data_y, input_seq, output_seq):\n",
    "        \n",
    "        data_x_list = []\n",
    "        data_y_list = []\n",
    "        \n",
    "        for i in tqdm(range(len(data_x) - (input_seq + output_seq - 1))):\n",
    "            data_x_list.append(data_x[i:i + input_seq])\n",
    "            data_y_list.append(data_y[i + input_seq:i + input_seq + output_seq])\n",
    "        \n",
    "        return np.array(data_x_list), np.array(data_y_list)\n",
    "\n",
    "    \n",
    "    x, y = make_sequence(x_val, x_val, input_seq, output_seq)\n",
    "\n",
    "    return v, x, y"
   ]
  },
  {
   "cell_type": "code",
   "execution_count": null,
   "metadata": {},
   "outputs": [],
   "source": []
  }
 ],
 "metadata": {
  "kernelspec": {
   "display_name": "Python 3",
   "language": "python",
   "name": "python3"
  },
  "language_info": {
   "codemirror_mode": {
    "name": "ipython",
    "version": 3
   },
   "file_extension": ".py",
   "mimetype": "text/x-python",
   "name": "python",
   "nbconvert_exporter": "python",
   "pygments_lexer": "ipython3",
   "version": "3.6.1"
  }
 },
 "nbformat": 4,
 "nbformat_minor": 2
}
